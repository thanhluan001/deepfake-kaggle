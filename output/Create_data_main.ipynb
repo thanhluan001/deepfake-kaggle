{
 "cells": [
  {
   "cell_type": "markdown",
   "metadata": {},
   "source": [
    "# Inference Kernel Demo II\n",
    "## This notebook is an update of this [work](https://www.kaggle.com/humananalog/inference-demo). \n",
    "## If it is useful for you, please consider your upvote.\n",
    "\n",
    "This is the kernel I’ve used for my recent submissions. It takes about 5-6 hours on the test set, using only CPU. \n",
    "\n",
    "I’ve provided this kernel because a lot of people have problems making submissions. This method works and has never errored out for me. (Although I haven't tried making a submission using the GPU yet -- so no guarantees there.)\n",
    "\n",
    "It uses BlazeFace for face extraction (see also [my BlazeFace kernel](https://www.kaggle.com/humananalog/starter-blazeface-pytorch)) and ResNeXt50 as the classifier model.\n",
    "\n",
    "We take the average prediction over 17 frames from each video. (Why 17? Using more frames makes the kernel slower, but doesn't appear to improve the score much. I used an odd number so we don't always land on even frames.)\n",
    "\n",
    "**Please use this kernel only to learn from...** Included is the checkpoint for a ResNeXt50 model that hasn't really been trained very well yet. I'm sure you can improve on it by training your own model!\n",
    "\n",
    "You could use the included trained weights to get yourself an easy top-50 score on the leaderboard (as of 24 Jan 2020) but it’s nicer to use it as a starting point for your own work. :-)"
   ]
  },
  {
   "cell_type": "code",
   "execution_count": 1,
   "metadata": {
    "_cell_guid": "b1076dfc-b9ad-4769-8c92-a6c4dae69d19",
    "_uuid": "8f2839f25d086af736a60e9eeb907d3b93b6e0e5"
   },
   "outputs": [
    {
     "data": {
      "text/plain": [
       "True"
      ]
     },
     "execution_count": 1,
     "metadata": {},
     "output_type": "execute_result"
    }
   ],
   "source": [
    "import os, sys, time\n",
    "import cv2\n",
    "import numpy as np\n",
    "import pandas as pd\n",
    "\n",
    "import torch\n",
    "import torch.nn as nn\n",
    "import torch.nn.functional as F\n",
    "\n",
    "%matplotlib inline\n",
    "import matplotlib.pyplot as plt\n",
    "from pathlib import Path\n",
    "import matplotlib.patches as patches\n",
    "from tqdm import tqdm\n",
    "\n",
    "from PIL import Image\n",
    "\n",
    "torch.cuda.is_available()"
   ]
  },
  {
   "cell_type": "code",
   "execution_count": 2,
   "metadata": {},
   "outputs": [],
   "source": [
    "# TRAIN_PATH = Path('../input/deepfake-detection-challenge/train_sample_videos/') \n",
    "# TEST_PATH = Path('../input/deepfake-detection-challenge/test_videos/') "
   ]
  },
  {
   "cell_type": "markdown",
   "metadata": {},
   "source": [
    "## Create helpers"
   ]
  },
  {
   "cell_type": "code",
   "execution_count": 2,
   "metadata": {},
   "outputs": [
    {
     "name": "stdout",
     "output_type": "stream",
     "text": [
      "PyTorch version: 1.3.1\n",
      "CUDA version: 10.0.130\n",
      "cuDNN version: 7605\n"
     ]
    }
   ],
   "source": [
    "print(\"PyTorch version:\", torch.__version__)\n",
    "print(\"CUDA version:\", torch.version.cuda)\n",
    "print(\"cuDNN version:\", torch.backends.cudnn.version())"
   ]
  },
  {
   "cell_type": "code",
   "execution_count": 3,
   "metadata": {},
   "outputs": [
    {
     "data": {
      "text/plain": [
       "device(type='cuda', index=0)"
      ]
     },
     "execution_count": 3,
     "metadata": {},
     "output_type": "execute_result"
    }
   ],
   "source": [
    "gpu = torch.device(\"cuda:0\" if torch.cuda.is_available() else \"cpu\")\n",
    "gpu"
   ]
  },
  {
   "cell_type": "code",
   "execution_count": 4,
   "metadata": {},
   "outputs": [],
   "source": [
    "import sys\n",
    "sys.path.insert(0, \"../input/blazeface-pytorch\")\n",
    "sys.path.insert(0, \"../input/deepfakes-inference-demo\")"
   ]
  },
  {
   "cell_type": "code",
   "execution_count": 5,
   "metadata": {},
   "outputs": [],
   "source": [
    "from blazeface import BlazeFace\n",
    "facedet = BlazeFace().to(gpu)\n",
    "facedet.load_weights(\"../input/blazeface-pytorch/blazeface.pth\")\n",
    "facedet.load_anchors(\"../input/blazeface-pytorch/anchors.npy\")\n",
    "_ = facedet.train(False)"
   ]
  },
  {
   "cell_type": "code",
   "execution_count": 6,
   "metadata": {},
   "outputs": [],
   "source": [
    "from helpers.read_video_1 import VideoReader\n",
    "from helpers.face_extract_1 import FaceExtractor\n",
    "\n",
    "frames_per_video = 25  \n",
    "video_reader = VideoReader()\n",
    "video_read_fn = lambda x: video_reader.read_frames(x, num_frames=frames_per_video)\n",
    "face_extractor = FaceExtractor(video_read_fn, facedet)"
   ]
  },
  {
   "cell_type": "code",
   "execution_count": 7,
   "metadata": {},
   "outputs": [],
   "source": [
    "input_size = 224    # 224 x 224 x 3 "
   ]
  },
  {
   "cell_type": "markdown",
   "metadata": {},
   "source": [
    "# Save training data"
   ]
  },
  {
   "cell_type": "code",
   "execution_count": 9,
   "metadata": {},
   "outputs": [
    {
     "ename": "NameError",
     "evalue": "name 'TRAIN_PATH' is not defined",
     "output_type": "error",
     "traceback": [
      "\u001b[0;31m---------------------------------------------------------------------------\u001b[0m",
      "\u001b[0;31mNameError\u001b[0m                                 Traceback (most recent call last)",
      "\u001b[0;32m<ipython-input-9-be1ecc93a295>\u001b[0m in \u001b[0;36m<module>\u001b[0;34m\u001b[0m\n\u001b[1;32m      1\u001b[0m \u001b[0;31m# TEST DISPLAY\u001b[0m\u001b[0;34m\u001b[0m\u001b[0;34m\u001b[0m\u001b[0;34m\u001b[0m\u001b[0m\n\u001b[0;32m----> 2\u001b[0;31m \u001b[0mfaces\u001b[0m \u001b[0;34m=\u001b[0m \u001b[0mface_extractor\u001b[0m\u001b[0;34m.\u001b[0m\u001b[0mprocess_video\u001b[0m\u001b[0;34m(\u001b[0m\u001b[0mTRAIN_PATH\u001b[0m\u001b[0;34m/\u001b[0m\u001b[0;34m'aagfhgtpmv.mp4'\u001b[0m\u001b[0;34m,\u001b[0m \u001b[0mmargin\u001b[0m\u001b[0;34m=\u001b[0m\u001b[0;36m0.6\u001b[0m\u001b[0;34m)\u001b[0m\u001b[0;34m\u001b[0m\u001b[0;34m\u001b[0m\u001b[0m\n\u001b[0m\u001b[1;32m      3\u001b[0m \u001b[0mface_extractor\u001b[0m\u001b[0;34m.\u001b[0m\u001b[0mkeep_only_best_face\u001b[0m\u001b[0;34m(\u001b[0m\u001b[0mfaces\u001b[0m\u001b[0;34m)\u001b[0m\u001b[0;34m\u001b[0m\u001b[0;34m\u001b[0m\u001b[0m\n\u001b[1;32m      4\u001b[0m \u001b[0;34m\u001b[0m\u001b[0m\n\u001b[1;32m      5\u001b[0m \u001b[0mface\u001b[0m \u001b[0;34m=\u001b[0m \u001b[0mfaces\u001b[0m\u001b[0;34m[\u001b[0m\u001b[0;36m2\u001b[0m\u001b[0;34m]\u001b[0m\u001b[0;34m[\u001b[0m\u001b[0;34m'faces'\u001b[0m\u001b[0;34m]\u001b[0m\u001b[0;34m[\u001b[0m\u001b[0;36m0\u001b[0m\u001b[0;34m]\u001b[0m\u001b[0;34m\u001b[0m\u001b[0;34m\u001b[0m\u001b[0m\n",
      "\u001b[0;31mNameError\u001b[0m: name 'TRAIN_PATH' is not defined"
     ]
    }
   ],
   "source": [
    "# TEST DISPLAY\n",
    "faces = face_extractor.process_video(TRAIN_PATH/'aagfhgtpmv.mp4', margin=0.6)\n",
    "face_extractor.keep_only_best_face(faces)\n",
    "\n",
    "face = faces[2]['faces'][0]\n",
    "\n",
    "# resized_face = isotropically_resize_image(face, input_size)\n",
    "# resized_face = make_square_image(resized_face)\n",
    "\n",
    "print(face.shape)\n",
    "\n",
    "plt.imshow(face)"
   ]
  },
  {
   "cell_type": "code",
   "execution_count": 8,
   "metadata": {},
   "outputs": [
    {
     "ename": "FileNotFoundError",
     "evalue": "[Errno 2] No such file or directory: 'aagfhgtpmv.mp4_20.jpeg'",
     "output_type": "error",
     "traceback": [
      "\u001b[0;31m---------------------------------------------------------------------------\u001b[0m",
      "\u001b[0;31mFileNotFoundError\u001b[0m                         Traceback (most recent call last)",
      "\u001b[0;32m<ipython-input-8-53b766fe7729>\u001b[0m in \u001b[0;36m<module>\u001b[0;34m\u001b[0m\n\u001b[0;32m----> 1\u001b[0;31m \u001b[0mim\u001b[0m \u001b[0;34m=\u001b[0m \u001b[0mImage\u001b[0m\u001b[0;34m.\u001b[0m\u001b[0mopen\u001b[0m\u001b[0;34m(\u001b[0m\u001b[0mopen\u001b[0m\u001b[0;34m(\u001b[0m\u001b[0;34m\"aagfhgtpmv.mp4_20.jpeg\"\u001b[0m\u001b[0;34m,\u001b[0m \u001b[0;34m'rb'\u001b[0m\u001b[0;34m)\u001b[0m\u001b[0;34m)\u001b[0m\u001b[0;34m\u001b[0m\u001b[0;34m\u001b[0m\u001b[0m\n\u001b[0m\u001b[1;32m      2\u001b[0m \u001b[0mplt\u001b[0m\u001b[0;34m.\u001b[0m\u001b[0mimshow\u001b[0m\u001b[0;34m(\u001b[0m\u001b[0mnp\u001b[0m\u001b[0;34m.\u001b[0m\u001b[0marray\u001b[0m\u001b[0;34m(\u001b[0m\u001b[0mim\u001b[0m\u001b[0;34m)\u001b[0m\u001b[0;34m)\u001b[0m\u001b[0;34m\u001b[0m\u001b[0;34m\u001b[0m\u001b[0m\n",
      "\u001b[0;31mFileNotFoundError\u001b[0m: [Errno 2] No such file or directory: 'aagfhgtpmv.mp4_20.jpeg'"
     ]
    }
   ],
   "source": [
    "im = Image.open(open(\"aagfhgtpmv.mp4_20.jpeg\", 'rb'))\n",
    "plt.imshow(np.array(im))"
   ]
  },
  {
   "cell_type": "markdown",
   "metadata": {},
   "source": [
    "# New Code here (with different chunks)"
   ]
  },
  {
   "cell_type": "code",
   "execution_count": 30,
   "metadata": {},
   "outputs": [],
   "source": [
    "# TRAIN_PATH = Path('../input/deepfake-detection-challenge/test_videos/') \n",
    "\n",
    "SOURCE_PATH=Path('data/dfdc_train_part_24/')\n",
    "OUTPUT_PATH = Path('data/temp')"
   ]
  },
  {
   "cell_type": "code",
   "execution_count": 31,
   "metadata": {},
   "outputs": [
    {
     "data": {
      "text/html": [
       "<div>\n",
       "<style scoped>\n",
       "    .dataframe tbody tr th:only-of-type {\n",
       "        vertical-align: middle;\n",
       "    }\n",
       "\n",
       "    .dataframe tbody tr th {\n",
       "        vertical-align: top;\n",
       "    }\n",
       "\n",
       "    .dataframe thead th {\n",
       "        text-align: right;\n",
       "    }\n",
       "</style>\n",
       "<table border=\"1\" class=\"dataframe\">\n",
       "  <thead>\n",
       "    <tr style=\"text-align: right;\">\n",
       "      <th></th>\n",
       "      <th>label</th>\n",
       "      <th>split</th>\n",
       "      <th>original</th>\n",
       "    </tr>\n",
       "  </thead>\n",
       "  <tbody>\n",
       "    <tr>\n",
       "      <th>anijjqtfth.mp4</th>\n",
       "      <td>FAKE</td>\n",
       "      <td>train</td>\n",
       "      <td>qbwwpvgyhh.mp4</td>\n",
       "    </tr>\n",
       "    <tr>\n",
       "      <th>zffofixoeh.mp4</th>\n",
       "      <td>FAKE</td>\n",
       "      <td>train</td>\n",
       "      <td>bjdtgkmvza.mp4</td>\n",
       "    </tr>\n",
       "    <tr>\n",
       "      <th>rkbynalsjc.mp4</th>\n",
       "      <td>FAKE</td>\n",
       "      <td>train</td>\n",
       "      <td>qbwwpvgyhh.mp4</td>\n",
       "    </tr>\n",
       "    <tr>\n",
       "      <th>kyknzgpgvh.mp4</th>\n",
       "      <td>FAKE</td>\n",
       "      <td>train</td>\n",
       "      <td>hyhczxthrs.mp4</td>\n",
       "    </tr>\n",
       "    <tr>\n",
       "      <th>lklxnnznwk.mp4</th>\n",
       "      <td>FAKE</td>\n",
       "      <td>train</td>\n",
       "      <td>sxjdqerkfp.mp4</td>\n",
       "    </tr>\n",
       "    <tr>\n",
       "      <th>...</th>\n",
       "      <td>...</td>\n",
       "      <td>...</td>\n",
       "      <td>...</td>\n",
       "    </tr>\n",
       "    <tr>\n",
       "      <th>fxfxrgntdt.mp4</th>\n",
       "      <td>FAKE</td>\n",
       "      <td>train</td>\n",
       "      <td>ggltfenzwo.mp4</td>\n",
       "    </tr>\n",
       "    <tr>\n",
       "      <th>ftmdkroplr.mp4</th>\n",
       "      <td>FAKE</td>\n",
       "      <td>train</td>\n",
       "      <td>dcrkfowrrh.mp4</td>\n",
       "    </tr>\n",
       "    <tr>\n",
       "      <th>uvjevytnqy.mp4</th>\n",
       "      <td>REAL</td>\n",
       "      <td>train</td>\n",
       "      <td>NaN</td>\n",
       "    </tr>\n",
       "    <tr>\n",
       "      <th>ieybeoxyyd.mp4</th>\n",
       "      <td>FAKE</td>\n",
       "      <td>train</td>\n",
       "      <td>gstyhbnxwx.mp4</td>\n",
       "    </tr>\n",
       "    <tr>\n",
       "      <th>etisprvjae.mp4</th>\n",
       "      <td>FAKE</td>\n",
       "      <td>train</td>\n",
       "      <td>vcwjvigiyf.mp4</td>\n",
       "    </tr>\n",
       "  </tbody>\n",
       "</table>\n",
       "<p>2786 rows × 3 columns</p>\n",
       "</div>"
      ],
      "text/plain": [
       "               label  split        original\n",
       "anijjqtfth.mp4  FAKE  train  qbwwpvgyhh.mp4\n",
       "zffofixoeh.mp4  FAKE  train  bjdtgkmvza.mp4\n",
       "rkbynalsjc.mp4  FAKE  train  qbwwpvgyhh.mp4\n",
       "kyknzgpgvh.mp4  FAKE  train  hyhczxthrs.mp4\n",
       "lklxnnznwk.mp4  FAKE  train  sxjdqerkfp.mp4\n",
       "...              ...    ...             ...\n",
       "fxfxrgntdt.mp4  FAKE  train  ggltfenzwo.mp4\n",
       "ftmdkroplr.mp4  FAKE  train  dcrkfowrrh.mp4\n",
       "uvjevytnqy.mp4  REAL  train             NaN\n",
       "ieybeoxyyd.mp4  FAKE  train  gstyhbnxwx.mp4\n",
       "etisprvjae.mp4  FAKE  train  vcwjvigiyf.mp4\n",
       "\n",
       "[2786 rows x 3 columns]"
      ]
     },
     "execution_count": 31,
     "metadata": {},
     "output_type": "execute_result"
    }
   ],
   "source": [
    "train_sample_data = pd.read_json(SOURCE_PATH/'metadata.json').T\n",
    "train_sample_data"
   ]
  },
  {
   "cell_type": "code",
   "execution_count": 32,
   "metadata": {},
   "outputs": [
    {
     "data": {
      "image/png": "[encoded data removed]",
      "text/plain": [
       "<Figure size 1080x360 with 1 Axes>"
      ]
     },
     "metadata": {
      "needs_background": "light"
     },
     "output_type": "display_data"
    },
    {
     "name": "stdout",
     "output_type": "stream",
     "text": [
      "label\n",
      "FAKE    2347\n",
      "REAL     439\n",
      "Name: label, dtype: int64\n"
     ]
    }
   ],
   "source": [
    "# Just a bit of statistics to see how many frames to take\n",
    "train_sample_data.groupby('label')['label'].count().plot(figsize=(15, 5), kind='bar', title='Distribution of Labels in the Training Set')\n",
    "plt.show()\n",
    "\n",
    "print(train_sample_data.groupby('label')['label'].count())"
   ]
  },
  {
   "cell_type": "code",
   "execution_count": 33,
   "metadata": {},
   "outputs": [],
   "source": [
    "# Create folder train\n",
    "if not os.path.exists('data/temp/'):\n",
    "    os.makedirs('data/temp/')"
   ]
  },
  {
   "cell_type": "code",
   "execution_count": 12,
   "metadata": {},
   "outputs": [],
   "source": [
    "def process_save_file(input_path, file_name, output_path):\n",
    "    \n",
    "    if not os.path.exists(input_path/file_name):\n",
    "        print(f\"File {input_path/file_name} does not exist\")\n",
    "        return\n",
    "    \n",
    "    faces = face_extractor.process_video(input_path/file_name, margin=0.6)\n",
    "    face_extractor.keep_only_best_face(faces)\n",
    "\n",
    "    i = 0\n",
    "    # TODO: Combine with data to put to different folders :D \n",
    "    for frame_face in faces:        \n",
    "        for face in frame_face[\"faces\"]:    # should only  got 1 here\n",
    "\n",
    "            im = Image.fromarray(face)\n",
    "            im.save( f\"{output_path/file_name}_{i}.jpeg\")\n",
    "            \n",
    "            # increase index\n",
    "            i += 1\n",
    "        \n",
    "# process_save_file('aagfhgtpmv.mp4', 'train')"
   ]
  },
  {
   "cell_type": "code",
   "execution_count": 34,
   "metadata": {},
   "outputs": [
    {
     "name": "stdout",
     "output_type": "stream",
     "text": [
      "data/dfdc_train_part_24\n",
      "data/temp\n"
     ]
    }
   ],
   "source": [
    "print(SOURCE_PATH)\n",
    "print(OUTPUT_PATH)"
   ]
  },
  {
   "cell_type": "code",
   "execution_count": 35,
   "metadata": {},
   "outputs": [
    {
     "name": "stderr",
     "output_type": "stream",
     "text": [
      "  0%|          | 0/2347 [00:00<?, ?it/s]"
     ]
    },
    {
     "name": "stdout",
     "output_type": "stream",
     "text": [
      "data/temp/fake\n"
     ]
    },
    {
     "name": "stderr",
     "output_type": "stream",
     "text": [
      "100%|██████████| 2347/2347 [1:05:41<00:00,  1.68s/it]\n"
     ]
    }
   ],
   "source": [
    "# Save fake files, get 60 frames per fake videos\n",
    "frames_per_video = 40 \n",
    "\n",
    "working_directory = OUTPUT_PATH/'fake'\n",
    "print(working_directory)\n",
    "\n",
    "# Create folder train\n",
    "if not os.path.exists(working_directory):\n",
    "    os.makedirs(working_directory)\n",
    "\n",
    "fake_files = train_sample_data[train_sample_data['label'] == 'FAKE']\n",
    "    \n",
    "for file in tqdm(fake_files.index): \n",
    "    process_save_file(SOURCE_PATH, file, working_directory)"
   ]
  },
  {
   "cell_type": "code",
   "execution_count": 36,
   "metadata": {},
   "outputs": [
    {
     "name": "stderr",
     "output_type": "stream",
     "text": [
      "  0%|          | 0/439 [00:00<?, ?it/s]"
     ]
    },
    {
     "name": "stdout",
     "output_type": "stream",
     "text": [
      "data/temp/real\n"
     ]
    },
    {
     "name": "stderr",
     "output_type": "stream",
     "text": [
      "100%|██████████| 439/439 [49:23<00:00,  6.75s/it]\n"
     ]
    }
   ],
   "source": [
    "# Save real files, get 240 frames per real videos\n",
    "frames_per_video = 240 \n",
    "\n",
    "working_directory = OUTPUT_PATH/'real'\n",
    "print(working_directory)\n",
    "\n",
    "# Create folder train\n",
    "if not os.path.exists(working_directory):\n",
    "    os.makedirs(working_directory)\n",
    "\n",
    "real_files = train_sample_data[train_sample_data['label'] == 'REAL']\n",
    "    \n",
    "for file in tqdm(real_files.index): \n",
    "    process_save_file(SOURCE_PATH, file, working_directory)"
   ]
  }
 ],
 "metadata": {
  "kernelspec": {
   "display_name": "Python 3",
   "language": "python",
   "name": "python3"
  },
  "language_info": {
   "codemirror_mode": {
    "name": "ipython",
    "version": 3
   },
   "file_extension": ".py",
   "mimetype": "text/x-python",
   "name": "python",
   "nbconvert_exporter": "python",
   "pygments_lexer": "ipython3",
   "version": "3.7.5"
  }
 },
 "nbformat": 4,
 "nbformat_minor": 4
}
